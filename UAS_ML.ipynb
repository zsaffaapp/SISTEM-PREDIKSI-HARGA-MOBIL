{
  "nbformat": 4,
  "nbformat_minor": 0,
  "metadata": {
    "colab": {
      "name": "UAS ML.ipynb",
      "provenance": [],
      "authorship_tag": "ABX9TyMN0l9mVbgaG2/Q4QwXlS2t",
      "include_colab_link": true
    },
    "kernelspec": {
      "name": "python3",
      "display_name": "Python 3"
    },
    "language_info": {
      "name": "python"
    }
  },
  "cells": [
    {
      "cell_type": "markdown",
      "metadata": {
        "id": "view-in-github",
        "colab_type": "text"
      },
      "source": [
        "<a href=\"https://colab.research.google.com/github/zsaffaapp/SISTEM-PREDIKSI-HARGA-MOBIL/blob/main/UAS_ML.ipynb\" target=\"_parent\"><img src=\"https://colab.research.google.com/assets/colab-badge.svg\" alt=\"Open In Colab\"/></a>"
      ]
    },
    {
      "cell_type": "code",
      "metadata": {
        "id": "B2djgaNPT5Y7"
      },
      "source": [
        "import pandas as pd\n",
        "import numpy as np\n",
        "import matplotlib.pyplot as plt\n",
        "import sklearn.metrics as metrics"
      ],
      "execution_count": null,
      "outputs": []
    },
    {
      "cell_type": "code",
      "metadata": {
        "colab": {
          "base_uri": "https://localhost:8080/"
        },
        "id": "oRNGUr7LT789",
        "outputId": "b6b22db7-a5be-404d-e842-8e7673c5802d"
      },
      "source": [
        "data_location='/content/toyota.csv'\n",
        "row_data = pd.read_csv(data_location)\n",
        "row_data.shape"
      ],
      "execution_count": null,
      "outputs": [
        {
          "output_type": "execute_result",
          "data": {
            "text/plain": [
              "(6738, 9)"
            ]
          },
          "metadata": {},
          "execution_count": 2
        }
      ]
    },
    {
      "cell_type": "code",
      "metadata": {
        "colab": {
          "base_uri": "https://localhost:8080/"
        },
        "id": "N6WFOG4dUNh8",
        "outputId": "fad108ac-c938-449f-cc62-a3e5b358c8c0"
      },
      "source": [
        "row_data.describe"
      ],
      "execution_count": null,
      "outputs": [
        {
          "output_type": "execute_result",
          "data": {
            "text/plain": [
              "<bound method NDFrame.describe of                model  year  price transmission  ...  fuelType  tax   mpg  engineSize\n",
              "0               GT86  2016  16000       Manual  ...    Petrol  265  36.2         2.0\n",
              "1               GT86  2017  15995       Manual  ...    Petrol  145  36.2         2.0\n",
              "2               GT86  2015  13998       Manual  ...    Petrol  265  36.2         2.0\n",
              "3               GT86  2017  18998       Manual  ...    Petrol  150  36.2         2.0\n",
              "4               GT86  2017  17498       Manual  ...    Petrol  145  36.2         2.0\n",
              "...              ...   ...    ...          ...  ...       ...  ...   ...         ...\n",
              "6733              IQ  2011   5500    Automatic  ...    Petrol   20  58.9         1.0\n",
              "6734   Urban Cruiser  2011   4985       Manual  ...    Petrol  125  50.4         1.3\n",
              "6735   Urban Cruiser  2012   4995       Manual  ...    Diesel  125  57.6         1.4\n",
              "6736   Urban Cruiser  2011   3995       Manual  ...    Petrol  125  50.4         1.3\n",
              "6737   Urban Cruiser  2011   4495       Manual  ...    Petrol  125  50.4         1.3\n",
              "\n",
              "[6738 rows x 9 columns]>"
            ]
          },
          "metadata": {},
          "execution_count": 3
        }
      ]
    },
    {
      "cell_type": "code",
      "metadata": {
        "colab": {
          "base_uri": "https://localhost:8080/",
          "height": 297
        },
        "id": "q3nl-7ZTUPb0",
        "outputId": "259700c3-6bc9-4532-d44f-cfdbc1bf688b"
      },
      "source": [
        "data = row_data.dropna(axis=0)\n",
        "data.describe()"
      ],
      "execution_count": null,
      "outputs": [
        {
          "output_type": "execute_result",
          "data": {
            "text/html": [
              "<div>\n",
              "<style scoped>\n",
              "    .dataframe tbody tr th:only-of-type {\n",
              "        vertical-align: middle;\n",
              "    }\n",
              "\n",
              "    .dataframe tbody tr th {\n",
              "        vertical-align: top;\n",
              "    }\n",
              "\n",
              "    .dataframe thead th {\n",
              "        text-align: right;\n",
              "    }\n",
              "</style>\n",
              "<table border=\"1\" class=\"dataframe\">\n",
              "  <thead>\n",
              "    <tr style=\"text-align: right;\">\n",
              "      <th></th>\n",
              "      <th>year</th>\n",
              "      <th>price</th>\n",
              "      <th>mileage</th>\n",
              "      <th>tax</th>\n",
              "      <th>mpg</th>\n",
              "      <th>engineSize</th>\n",
              "    </tr>\n",
              "  </thead>\n",
              "  <tbody>\n",
              "    <tr>\n",
              "      <th>count</th>\n",
              "      <td>6738.000000</td>\n",
              "      <td>6738.000000</td>\n",
              "      <td>6738.000000</td>\n",
              "      <td>6738.000000</td>\n",
              "      <td>6738.000000</td>\n",
              "      <td>6738.000000</td>\n",
              "    </tr>\n",
              "    <tr>\n",
              "      <th>mean</th>\n",
              "      <td>2016.748145</td>\n",
              "      <td>12522.391066</td>\n",
              "      <td>22857.413921</td>\n",
              "      <td>94.697240</td>\n",
              "      <td>63.042223</td>\n",
              "      <td>1.471297</td>\n",
              "    </tr>\n",
              "    <tr>\n",
              "      <th>std</th>\n",
              "      <td>2.204062</td>\n",
              "      <td>6345.017587</td>\n",
              "      <td>19125.464147</td>\n",
              "      <td>73.880776</td>\n",
              "      <td>15.836710</td>\n",
              "      <td>0.436159</td>\n",
              "    </tr>\n",
              "    <tr>\n",
              "      <th>min</th>\n",
              "      <td>1998.000000</td>\n",
              "      <td>850.000000</td>\n",
              "      <td>2.000000</td>\n",
              "      <td>0.000000</td>\n",
              "      <td>2.800000</td>\n",
              "      <td>0.000000</td>\n",
              "    </tr>\n",
              "    <tr>\n",
              "      <th>25%</th>\n",
              "      <td>2016.000000</td>\n",
              "      <td>8290.000000</td>\n",
              "      <td>9446.000000</td>\n",
              "      <td>0.000000</td>\n",
              "      <td>55.400000</td>\n",
              "      <td>1.000000</td>\n",
              "    </tr>\n",
              "    <tr>\n",
              "      <th>50%</th>\n",
              "      <td>2017.000000</td>\n",
              "      <td>10795.000000</td>\n",
              "      <td>18513.000000</td>\n",
              "      <td>135.000000</td>\n",
              "      <td>62.800000</td>\n",
              "      <td>1.500000</td>\n",
              "    </tr>\n",
              "    <tr>\n",
              "      <th>75%</th>\n",
              "      <td>2018.000000</td>\n",
              "      <td>14995.000000</td>\n",
              "      <td>31063.750000</td>\n",
              "      <td>145.000000</td>\n",
              "      <td>69.000000</td>\n",
              "      <td>1.800000</td>\n",
              "    </tr>\n",
              "    <tr>\n",
              "      <th>max</th>\n",
              "      <td>2020.000000</td>\n",
              "      <td>59995.000000</td>\n",
              "      <td>174419.000000</td>\n",
              "      <td>565.000000</td>\n",
              "      <td>235.000000</td>\n",
              "      <td>4.500000</td>\n",
              "    </tr>\n",
              "  </tbody>\n",
              "</table>\n",
              "</div>"
            ],
            "text/plain": [
              "              year         price  ...          mpg   engineSize\n",
              "count  6738.000000   6738.000000  ...  6738.000000  6738.000000\n",
              "mean   2016.748145  12522.391066  ...    63.042223     1.471297\n",
              "std       2.204062   6345.017587  ...    15.836710     0.436159\n",
              "min    1998.000000    850.000000  ...     2.800000     0.000000\n",
              "25%    2016.000000   8290.000000  ...    55.400000     1.000000\n",
              "50%    2017.000000  10795.000000  ...    62.800000     1.500000\n",
              "75%    2018.000000  14995.000000  ...    69.000000     1.800000\n",
              "max    2020.000000  59995.000000  ...   235.000000     4.500000\n",
              "\n",
              "[8 rows x 6 columns]"
            ]
          },
          "metadata": {},
          "execution_count": 4
        }
      ]
    },
    {
      "cell_type": "code",
      "metadata": {
        "colab": {
          "base_uri": "https://localhost:8080/"
        },
        "id": "adqOXpzeURY5",
        "outputId": "f53c4b40-cdaa-4e14-922a-1e2203f355e4"
      },
      "source": [
        "print (row_data.dtypes)"
      ],
      "execution_count": null,
      "outputs": [
        {
          "output_type": "stream",
          "name": "stdout",
          "text": [
            "model            object\n",
            "year              int64\n",
            "price             int64\n",
            "transmission     object\n",
            "mileage           int64\n",
            "fuelType         object\n",
            "tax               int64\n",
            "mpg             float64\n",
            "engineSize      float64\n",
            "dtype: object\n"
          ]
        }
      ]
    },
    {
      "cell_type": "code",
      "metadata": {
        "colab": {
          "base_uri": "https://localhost:8080/"
        },
        "id": "dzNtgoJQUSHa",
        "outputId": "c3d02cb1-506c-4028-b107-c2038eead44e"
      },
      "source": [
        "features = ['year', 'mileage', 'tax', 'mpg', 'engineSize']\n",
        "x = data[features]\n",
        "y = data['price']\n",
        "x.shape, y.shape"
      ],
      "execution_count": null,
      "outputs": [
        {
          "output_type": "execute_result",
          "data": {
            "text/plain": [
              "((6738, 5), (6738,))"
            ]
          },
          "metadata": {},
          "execution_count": 6
        }
      ]
    },
    {
      "cell_type": "code",
      "metadata": {
        "id": "Gfc1Bd9ZUU5V"
      },
      "source": [
        "from sklearn.model_selection import train_test_split\n",
        "train_x, test_x, train_y, test_y = train_test_split(x, y, random_state = 70)"
      ],
      "execution_count": null,
      "outputs": []
    },
    {
      "cell_type": "code",
      "metadata": {
        "colab": {
          "base_uri": "https://localhost:8080/"
        },
        "id": "EtoSEnVkUWxn",
        "outputId": "1452a623-f8fc-426d-bc17-5c3b68f8e0ec"
      },
      "source": [
        "test_y.shape"
      ],
      "execution_count": null,
      "outputs": [
        {
          "output_type": "execute_result",
          "data": {
            "text/plain": [
              "(1685,)"
            ]
          },
          "metadata": {},
          "execution_count": 8
        }
      ]
    },
    {
      "cell_type": "code",
      "metadata": {
        "colab": {
          "base_uri": "https://localhost:8080/",
          "height": 166
        },
        "id": "byuYNldPUYd2",
        "outputId": "00cba503-cc2d-4ee7-bed6-c103593fa221"
      },
      "source": [
        "row_data.corr().style.background_gradient().set_precision(2)"
      ],
      "execution_count": null,
      "outputs": [
        {
          "output_type": "execute_result",
          "data": {
            "text/html": [
              "<style  type=\"text/css\" >\n",
              "#T_48788ace_2a19_11ec_a633_0242ac1c0002row0_col0,#T_48788ace_2a19_11ec_a633_0242ac1c0002row1_col1,#T_48788ace_2a19_11ec_a633_0242ac1c0002row2_col2,#T_48788ace_2a19_11ec_a633_0242ac1c0002row3_col3,#T_48788ace_2a19_11ec_a633_0242ac1c0002row4_col4,#T_48788ace_2a19_11ec_a633_0242ac1c0002row5_col5{\n",
              "            background-color:  #023858;\n",
              "            color:  #f1f1f1;\n",
              "        }#T_48788ace_2a19_11ec_a633_0242ac1c0002row0_col1{\n",
              "            background-color:  #5a9ec9;\n",
              "            color:  #000000;\n",
              "        }#T_48788ace_2a19_11ec_a633_0242ac1c0002row0_col2,#T_48788ace_2a19_11ec_a633_0242ac1c0002row2_col0,#T_48788ace_2a19_11ec_a633_0242ac1c0002row2_col1,#T_48788ace_2a19_11ec_a633_0242ac1c0002row3_col4,#T_48788ace_2a19_11ec_a633_0242ac1c0002row4_col3,#T_48788ace_2a19_11ec_a633_0242ac1c0002row4_col5{\n",
              "            background-color:  #fff7fb;\n",
              "            color:  #000000;\n",
              "        }#T_48788ace_2a19_11ec_a633_0242ac1c0002row0_col3{\n",
              "            background-color:  #75a9cf;\n",
              "            color:  #000000;\n",
              "        }#T_48788ace_2a19_11ec_a633_0242ac1c0002row0_col4{\n",
              "            background-color:  #c4cbe3;\n",
              "            color:  #000000;\n",
              "        }#T_48788ace_2a19_11ec_a633_0242ac1c0002row0_col5{\n",
              "            background-color:  #f7f0f7;\n",
              "            color:  #000000;\n",
              "        }#T_48788ace_2a19_11ec_a633_0242ac1c0002row1_col0{\n",
              "            background-color:  #2685bb;\n",
              "            color:  #000000;\n",
              "        }#T_48788ace_2a19_11ec_a633_0242ac1c0002row1_col2{\n",
              "            background-color:  #d1d2e6;\n",
              "            color:  #000000;\n",
              "        }#T_48788ace_2a19_11ec_a633_0242ac1c0002row1_col3{\n",
              "            background-color:  #88b1d4;\n",
              "            color:  #000000;\n",
              "        }#T_48788ace_2a19_11ec_a633_0242ac1c0002row1_col4{\n",
              "            background-color:  #c9cee4;\n",
              "            color:  #000000;\n",
              "        }#T_48788ace_2a19_11ec_a633_0242ac1c0002row1_col5{\n",
              "            background-color:  #056faf;\n",
              "            color:  #f1f1f1;\n",
              "        }#T_48788ace_2a19_11ec_a633_0242ac1c0002row2_col3{\n",
              "            background-color:  #e5e1ef;\n",
              "            color:  #000000;\n",
              "        }#T_48788ace_2a19_11ec_a633_0242ac1c0002row2_col4{\n",
              "            background-color:  #b4c4df;\n",
              "            color:  #000000;\n",
              "        }#T_48788ace_2a19_11ec_a633_0242ac1c0002row2_col5{\n",
              "            background-color:  #cdd0e5;\n",
              "            color:  #000000;\n",
              "        }#T_48788ace_2a19_11ec_a633_0242ac1c0002row3_col0{\n",
              "            background-color:  #4a98c5;\n",
              "            color:  #000000;\n",
              "        }#T_48788ace_2a19_11ec_a633_0242ac1c0002row3_col1,#T_48788ace_2a19_11ec_a633_0242ac1c0002row5_col0{\n",
              "            background-color:  #9ebad9;\n",
              "            color:  #000000;\n",
              "        }#T_48788ace_2a19_11ec_a633_0242ac1c0002row3_col2{\n",
              "            background-color:  #bfc9e1;\n",
              "            color:  #000000;\n",
              "        }#T_48788ace_2a19_11ec_a633_0242ac1c0002row3_col5{\n",
              "            background-color:  #d3d4e7;\n",
              "            color:  #000000;\n",
              "        }#T_48788ace_2a19_11ec_a633_0242ac1c0002row4_col0,#T_48788ace_2a19_11ec_a633_0242ac1c0002row5_col3{\n",
              "            background-color:  #99b8d8;\n",
              "            color:  #000000;\n",
              "        }#T_48788ace_2a19_11ec_a633_0242ac1c0002row4_col1{\n",
              "            background-color:  #dcdaeb;\n",
              "            color:  #000000;\n",
              "        }#T_48788ace_2a19_11ec_a633_0242ac1c0002row4_col2{\n",
              "            background-color:  #89b1d4;\n",
              "            color:  #000000;\n",
              "        }#T_48788ace_2a19_11ec_a633_0242ac1c0002row5_col1{\n",
              "            background-color:  #0569a4;\n",
              "            color:  #f1f1f1;\n",
              "        }#T_48788ace_2a19_11ec_a633_0242ac1c0002row5_col2{\n",
              "            background-color:  #67a4cc;\n",
              "            color:  #000000;\n",
              "        }#T_48788ace_2a19_11ec_a633_0242ac1c0002row5_col4{\n",
              "            background-color:  #d6d6e9;\n",
              "            color:  #000000;\n",
              "        }</style><table id=\"T_48788ace_2a19_11ec_a633_0242ac1c0002\" ><thead>    <tr>        <th class=\"blank level0\" ></th>        <th class=\"col_heading level0 col0\" >year</th>        <th class=\"col_heading level0 col1\" >price</th>        <th class=\"col_heading level0 col2\" >mileage</th>        <th class=\"col_heading level0 col3\" >tax</th>        <th class=\"col_heading level0 col4\" >mpg</th>        <th class=\"col_heading level0 col5\" >engineSize</th>    </tr></thead><tbody>\n",
              "                <tr>\n",
              "                        <th id=\"T_48788ace_2a19_11ec_a633_0242ac1c0002level0_row0\" class=\"row_heading level0 row0\" >year</th>\n",
              "                        <td id=\"T_48788ace_2a19_11ec_a633_0242ac1c0002row0_col0\" class=\"data row0 col0\" >1.00</td>\n",
              "                        <td id=\"T_48788ace_2a19_11ec_a633_0242ac1c0002row0_col1\" class=\"data row0 col1\" >0.42</td>\n",
              "                        <td id=\"T_48788ace_2a19_11ec_a633_0242ac1c0002row0_col2\" class=\"data row0 col2\" >-0.73</td>\n",
              "                        <td id=\"T_48788ace_2a19_11ec_a633_0242ac1c0002row0_col3\" class=\"data row0 col3\" >0.28</td>\n",
              "                        <td id=\"T_48788ace_2a19_11ec_a633_0242ac1c0002row0_col4\" class=\"data row0 col4\" >-0.02</td>\n",
              "                        <td id=\"T_48788ace_2a19_11ec_a633_0242ac1c0002row0_col5\" class=\"data row0 col5\" >-0.05</td>\n",
              "            </tr>\n",
              "            <tr>\n",
              "                        <th id=\"T_48788ace_2a19_11ec_a633_0242ac1c0002level0_row1\" class=\"row_heading level0 row1\" >price</th>\n",
              "                        <td id=\"T_48788ace_2a19_11ec_a633_0242ac1c0002row1_col0\" class=\"data row1 col0\" >0.42</td>\n",
              "                        <td id=\"T_48788ace_2a19_11ec_a633_0242ac1c0002row1_col1\" class=\"data row1 col1\" >1.00</td>\n",
              "                        <td id=\"T_48788ace_2a19_11ec_a633_0242ac1c0002row1_col2\" class=\"data row1 col2\" >-0.30</td>\n",
              "                        <td id=\"T_48788ace_2a19_11ec_a633_0242ac1c0002row1_col3\" class=\"data row1 col3\" >0.21</td>\n",
              "                        <td id=\"T_48788ace_2a19_11ec_a633_0242ac1c0002row1_col4\" class=\"data row1 col4\" >-0.04</td>\n",
              "                        <td id=\"T_48788ace_2a19_11ec_a633_0242ac1c0002row1_col5\" class=\"data row1 col5\" >0.73</td>\n",
              "            </tr>\n",
              "            <tr>\n",
              "                        <th id=\"T_48788ace_2a19_11ec_a633_0242ac1c0002level0_row2\" class=\"row_heading level0 row2\" >mileage</th>\n",
              "                        <td id=\"T_48788ace_2a19_11ec_a633_0242ac1c0002row2_col0\" class=\"data row2 col0\" >-0.73</td>\n",
              "                        <td id=\"T_48788ace_2a19_11ec_a633_0242ac1c0002row2_col1\" class=\"data row2 col1\" >-0.30</td>\n",
              "                        <td id=\"T_48788ace_2a19_11ec_a633_0242ac1c0002row2_col2\" class=\"data row2 col2\" >1.00</td>\n",
              "                        <td id=\"T_48788ace_2a19_11ec_a633_0242ac1c0002row2_col3\" class=\"data row2 col3\" >-0.21</td>\n",
              "                        <td id=\"T_48788ace_2a19_11ec_a633_0242ac1c0002row2_col4\" class=\"data row2 col4\" >0.04</td>\n",
              "                        <td id=\"T_48788ace_2a19_11ec_a633_0242ac1c0002row2_col5\" class=\"data row2 col5\" >0.18</td>\n",
              "            </tr>\n",
              "            <tr>\n",
              "                        <th id=\"T_48788ace_2a19_11ec_a633_0242ac1c0002level0_row3\" class=\"row_heading level0 row3\" >tax</th>\n",
              "                        <td id=\"T_48788ace_2a19_11ec_a633_0242ac1c0002row3_col0\" class=\"data row3 col0\" >0.28</td>\n",
              "                        <td id=\"T_48788ace_2a19_11ec_a633_0242ac1c0002row3_col1\" class=\"data row3 col1\" >0.21</td>\n",
              "                        <td id=\"T_48788ace_2a19_11ec_a633_0242ac1c0002row3_col2\" class=\"data row3 col2\" >-0.21</td>\n",
              "                        <td id=\"T_48788ace_2a19_11ec_a633_0242ac1c0002row3_col3\" class=\"data row3 col3\" >1.00</td>\n",
              "                        <td id=\"T_48788ace_2a19_11ec_a633_0242ac1c0002row3_col4\" class=\"data row3 col4\" >-0.43</td>\n",
              "                        <td id=\"T_48788ace_2a19_11ec_a633_0242ac1c0002row3_col5\" class=\"data row3 col5\" >0.16</td>\n",
              "            </tr>\n",
              "            <tr>\n",
              "                        <th id=\"T_48788ace_2a19_11ec_a633_0242ac1c0002level0_row4\" class=\"row_heading level0 row4\" >mpg</th>\n",
              "                        <td id=\"T_48788ace_2a19_11ec_a633_0242ac1c0002row4_col0\" class=\"data row4 col0\" >-0.02</td>\n",
              "                        <td id=\"T_48788ace_2a19_11ec_a633_0242ac1c0002row4_col1\" class=\"data row4 col1\" >-0.04</td>\n",
              "                        <td id=\"T_48788ace_2a19_11ec_a633_0242ac1c0002row4_col2\" class=\"data row4 col2\" >0.04</td>\n",
              "                        <td id=\"T_48788ace_2a19_11ec_a633_0242ac1c0002row4_col3\" class=\"data row4 col3\" >-0.43</td>\n",
              "                        <td id=\"T_48788ace_2a19_11ec_a633_0242ac1c0002row4_col4\" class=\"data row4 col4\" >1.00</td>\n",
              "                        <td id=\"T_48788ace_2a19_11ec_a633_0242ac1c0002row4_col5\" class=\"data row4 col5\" >-0.11</td>\n",
              "            </tr>\n",
              "            <tr>\n",
              "                        <th id=\"T_48788ace_2a19_11ec_a633_0242ac1c0002level0_row5\" class=\"row_heading level0 row5\" >engineSize</th>\n",
              "                        <td id=\"T_48788ace_2a19_11ec_a633_0242ac1c0002row5_col0\" class=\"data row5 col0\" >-0.05</td>\n",
              "                        <td id=\"T_48788ace_2a19_11ec_a633_0242ac1c0002row5_col1\" class=\"data row5 col1\" >0.73</td>\n",
              "                        <td id=\"T_48788ace_2a19_11ec_a633_0242ac1c0002row5_col2\" class=\"data row5 col2\" >0.18</td>\n",
              "                        <td id=\"T_48788ace_2a19_11ec_a633_0242ac1c0002row5_col3\" class=\"data row5 col3\" >0.16</td>\n",
              "                        <td id=\"T_48788ace_2a19_11ec_a633_0242ac1c0002row5_col4\" class=\"data row5 col4\" >-0.11</td>\n",
              "                        <td id=\"T_48788ace_2a19_11ec_a633_0242ac1c0002row5_col5\" class=\"data row5 col5\" >1.00</td>\n",
              "            </tr>\n",
              "    </tbody></table>"
            ],
            "text/plain": [
              "<pandas.io.formats.style.Styler at 0x7f04a6ab4190>"
            ]
          },
          "metadata": {},
          "execution_count": 9
        }
      ]
    },
    {
      "cell_type": "code",
      "metadata": {
        "colab": {
          "base_uri": "https://localhost:8080/"
        },
        "id": "PDpJlyAdUaPc",
        "outputId": "89d50492-8179-43bf-ef0f-28a95ffff71b"
      },
      "source": [
        "from sklearn.neighbors import KNeighborsRegressor as KNN_Reg\n",
        "from sklearn.metrics import mean_squared_error as mse\n",
        "\n",
        "model = KNN_Reg(n_neighbors = 80)\n",
        "\n",
        "# training the model:\n",
        "model.fit(train_x, train_y)\n",
        "acc1 = model.score(test_x, test_y)\n",
        "\n",
        "# test for prediction\n",
        "test_predict = model.predict(test_x)\n",
        "score = mse(test_predict, test_y)\n",
        "print(' MSE: ', score, '\\n', 'Accuracy: ', acc1)"
      ],
      "execution_count": null,
      "outputs": [
        {
          "output_type": "stream",
          "name": "stdout",
          "text": [
            " MSE:  34239793.2395612 \n",
            " Accuracy:  0.09914822203322793\n"
          ]
        }
      ]
    },
    {
      "cell_type": "code",
      "metadata": {
        "id": "zprvXFRJUb_t"
      },
      "source": [
        "def Elbow(K):\n",
        "  #initiating an empy list\n",
        "  test_mse =[]\n",
        "\n",
        "  #train model for every value of K\n",
        "  for i in K:\n",
        "    model = KNN_Reg(n_neighbors=i)\n",
        "    model.fit(train_x, train_y)\n",
        "    tmp = model.predict(test_x)\n",
        "    tmp = mse(tmp, test_y)\n",
        "    test_mse.append(tmp)\n",
        "  \n",
        "  return test_mse"
      ],
      "execution_count": null,
      "outputs": []
    },
    {
      "cell_type": "code",
      "metadata": {
        "colab": {
          "base_uri": "https://localhost:8080/",
          "height": 312
        },
        "id": "6dMX6xhBUdq6",
        "outputId": "2a6ad6bf-8180-4ec9-b9ea-aadf1695b78a"
      },
      "source": [
        "K = range(80, 100)\n",
        "test = Elbow(K)\n",
        "\n",
        "#plotting\n",
        "plt.plot(K,test)\n",
        "plt.xlabel('K Neighbors')\n",
        "plt.ylabel('Mean Squared Error (MSE)')\n",
        "plt.title('Elbow Curve for Test')"
      ],
      "execution_count": null,
      "outputs": [
        {
          "output_type": "execute_result",
          "data": {
            "text/plain": [
              "Text(0.5, 1.0, 'Elbow Curve for Test')"
            ]
          },
          "metadata": {},
          "execution_count": 12
        },
        {
          "output_type": "display_data",
          "data": {
            "image/png": "[encoded data removed]",
            "text/plain": [
              "<Figure size 432x288 with 1 Axes>"
            ]
          },
          "metadata": {
            "needs_background": "light"
          }
        }
      ]
    },
    {
      "cell_type": "code",
      "metadata": {
        "colab": {
          "base_uri": "https://localhost:8080/"
        },
        "id": "f940oO4wUfwd",
        "outputId": "7d25c513-b1c5-4fb6-e82c-25cb1cd131b0"
      },
      "source": [
        "from sklearn.linear_model import LinearRegression\n",
        "\n",
        "\n",
        "regressor = LinearRegression()\n",
        "regressor.fit(train_x,train_y)\n",
        "print('Accuracy on Testing set: %.1f ' %(regressor.score(train_x,train_y)*100))"
      ],
      "execution_count": null,
      "outputs": [
        {
          "output_type": "stream",
          "name": "stdout",
          "text": [
            "Accuracy on Testing set: 76.2 \n"
          ]
        }
      ]
    },
    {
      "cell_type": "code",
      "metadata": {
        "colab": {
          "base_uri": "https://localhost:8080/"
        },
        "id": "PVzYODDLUhrz",
        "outputId": "9c01f7ac-1c1c-4871-a9fa-47c048067748"
      },
      "source": [
        "from sklearn.linear_model import Ridge,ElasticNet\n",
        "\n",
        "ridge=Ridge(alpha=2,max_iter=1000,random_state=1)\n",
        "ridge.fit(train_x,train_y)\n",
        "print('Accuracy on Testing set: %.1f ' %(ridge.score(test_x,test_y)*100))"
      ],
      "execution_count": null,
      "outputs": [
        {
          "output_type": "stream",
          "name": "stdout",
          "text": [
            "Accuracy on Testing set: 76.8 \n"
          ]
        }
      ]
    },
    {
      "cell_type": "code",
      "metadata": {
        "colab": {
          "base_uri": "https://localhost:8080/"
        },
        "id": "15u5rIC4UjgX",
        "outputId": "be3cf0f0-daed-4722-e8ec-ee635b335b5d"
      },
      "source": [
        "from sklearn.ensemble import RandomForestRegressor\n",
        "new_model = KNN_Reg(n_neighbors=97)\n",
        "\n",
        "# Train model\n",
        "new_model.fit(train_x, train_y)\n",
        "acc2 = new_model.score(test_x, test_y)\n",
        "\n",
        "rf_reg = RandomForestRegressor(random_state=1)\n",
        "rf_reg.fit(train_x, train_y)\n",
        "print('Accuracy on Testing set: %.1f ' %(rf_reg.score(test_x,test_y)*100))"
      ],
      "execution_count": null,
      "outputs": [
        {
          "output_type": "stream",
          "name": "stdout",
          "text": [
            "Accuracy on Testing set: 95.7 \n"
          ]
        }
      ]
    },
    {
      "cell_type": "code",
      "metadata": {
        "colab": {
          "base_uri": "https://localhost:8080/"
        },
        "id": "3sEvJxPwUlbQ",
        "outputId": "93aa69ef-ae7e-4521-d4e5-6341fdea0d49"
      },
      "source": [
        "def knn_alg(X_train, y_train, X_test, y_test, N):\n",
        "    knn = KNeighborsClassifier(n_neighbors=N)\n",
        "    knn.fit(X_train, y_train)\n",
        "\n",
        "    try:\n",
        "        knn.predict(X_test)\n",
        "    except NotFittedError as e:\n",
        "        print(repr(e))\n",
        "        \n",
        "        data_mobil_bekas = np.array([[2019,5000,145,30.2,2]])\n",
        "prediction_old = model.predict(data_mobil_bekas)\n",
        "prediction_new = new_model.predict(data_mobil_bekas)\n",
        "print(' Hasil Prediksi harga mobil dengan old model: £', prediction_old, 'atau jika dirupiahkan yaitu: Rp', prediction_old * 19110*1e-6, 'Juta\\n',\n",
        "      'Hasil Prediksi harga mobil dengan new model: £', prediction_new, 'atau jika dirupiahkan yaitu: Rp', prediction_new * 19110*1e-6, 'Juta')"
      ],
      "execution_count": null,
      "outputs": [
        {
          "output_type": "stream",
          "name": "stdout",
          "text": [
            " Hasil Prediksi harga mobil dengan old model: £ [15614.325] atau jika dirupiahkan yaitu: Rp [298.38975075] Juta\n",
            " Hasil Prediksi harga mobil dengan new model: £ [14988.65979381] atau jika dirupiahkan yaitu: Rp [286.43328866] Juta\n"
          ]
        }
      ]
    },
    {
      "cell_type": "code",
      "metadata": {
        "colab": {
          "base_uri": "https://localhost:8080/"
        },
        "id": "oN5cQdh5UoCN",
        "outputId": "373871cf-56c3-474b-a6ff-5eec3c7eb06b"
      },
      "source": [
        "data_mobil_bekas = np.array([[2019,15000,200,20.4,3]])\n",
        "prediction_old = model.predict(data_mobil_bekas)\n",
        "prediction_new = new_model.predict(data_mobil_bekas)\n",
        "print(' Hasil Prediksi harga mobil dengan old model: £', prediction_old, 'atau jika dirupiahkan yaitu: Rp', prediction_old * 19110*1e-6, 'Juta\\n',\n",
        "      'Hasil Prediksi harga mobil dengan new model: £', prediction_new, 'atau jika dirupiahkan yaitu: Rp', prediction_new * 19110*1e-6, 'Juta')"
      ],
      "execution_count": null,
      "outputs": [
        {
          "output_type": "stream",
          "name": "stdout",
          "text": [
            " Hasil Prediksi harga mobil dengan old model: £ [12361.525] atau jika dirupiahkan yaitu: Rp [236.22874275] Juta\n",
            " Hasil Prediksi harga mobil dengan new model: £ [12034.32989691] atau jika dirupiahkan yaitu: Rp [229.97604433] Juta\n"
          ]
        }
      ]
    }
  ]
}